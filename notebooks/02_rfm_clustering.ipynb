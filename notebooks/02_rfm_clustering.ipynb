{
 "cells": [
  {
   "cell_type": "markdown",
   "id": "3c5ab6df",
   "metadata": {},
   "source": [
    "# 02_rfm_clustering"
   ]
  },
  {
   "cell_type": "markdown",
   "id": "8f9dc725",
   "metadata": {},
   "source": [
    "## Importando bibliotecas"
   ]
  },
  {
   "cell_type": "code",
   "execution_count": 12,
   "id": "d9ef7469",
   "metadata": {},
   "outputs": [],
   "source": [
    "from datetime import datetime\n",
    "from sklearn.preprocessing import StandardScaler\n",
    "from sklearn.cluster import KMeans\n",
    "import numpy as np\n",
    "import pandas as pd\n",
    "import matplotlib.pyplot as plt"
   ]
  },
  {
   "cell_type": "markdown",
   "id": "202b869a",
   "metadata": {},
   "source": [
    "## Carregando os dados"
   ]
  },
  {
   "cell_type": "code",
   "execution_count": 13,
   "id": "4de2daaf",
   "metadata": {},
   "outputs": [],
   "source": [
    "# Carregando os dados\n",
    "df = pd.read_csv('../data/raw/data.csv', encoding='ISO-8859-1')"
   ]
  },
  {
   "cell_type": "code",
   "execution_count": 14,
   "id": "12fb6762",
   "metadata": {},
   "outputs": [
    {
     "data": {
      "application/vnd.microsoft.datawrangler.viewer.v0+json": {
       "columns": [
        {
         "name": "index",
         "rawType": "int64",
         "type": "integer"
        },
        {
         "name": "InvoiceNo",
         "rawType": "object",
         "type": "string"
        },
        {
         "name": "StockCode",
         "rawType": "object",
         "type": "string"
        },
        {
         "name": "Description",
         "rawType": "object",
         "type": "string"
        },
        {
         "name": "Quantity",
         "rawType": "int64",
         "type": "integer"
        },
        {
         "name": "InvoiceDate",
         "rawType": "object",
         "type": "string"
        },
        {
         "name": "UnitPrice",
         "rawType": "float64",
         "type": "float"
        },
        {
         "name": "CustomerID",
         "rawType": "float64",
         "type": "float"
        },
        {
         "name": "Country",
         "rawType": "object",
         "type": "string"
        }
       ],
       "ref": "fd3777b0-ae5f-4929-979a-0dd35d0a9ab4",
       "rows": [
        [
         "0",
         "536365",
         "85123A",
         "WHITE HANGING HEART T-LIGHT HOLDER",
         "6",
         "12/1/2010 8:26",
         "2.55",
         "17850.0",
         "United Kingdom"
        ],
        [
         "1",
         "536365",
         "71053",
         "WHITE METAL LANTERN",
         "6",
         "12/1/2010 8:26",
         "3.39",
         "17850.0",
         "United Kingdom"
        ],
        [
         "2",
         "536365",
         "84406B",
         "CREAM CUPID HEARTS COAT HANGER",
         "8",
         "12/1/2010 8:26",
         "2.75",
         "17850.0",
         "United Kingdom"
        ],
        [
         "3",
         "536365",
         "84029G",
         "KNITTED UNION FLAG HOT WATER BOTTLE",
         "6",
         "12/1/2010 8:26",
         "3.39",
         "17850.0",
         "United Kingdom"
        ],
        [
         "4",
         "536365",
         "84029E",
         "RED WOOLLY HOTTIE WHITE HEART.",
         "6",
         "12/1/2010 8:26",
         "3.39",
         "17850.0",
         "United Kingdom"
        ]
       ],
       "shape": {
        "columns": 8,
        "rows": 5
       }
      },
      "text/html": [
       "<div>\n",
       "<style scoped>\n",
       "    .dataframe tbody tr th:only-of-type {\n",
       "        vertical-align: middle;\n",
       "    }\n",
       "\n",
       "    .dataframe tbody tr th {\n",
       "        vertical-align: top;\n",
       "    }\n",
       "\n",
       "    .dataframe thead th {\n",
       "        text-align: right;\n",
       "    }\n",
       "</style>\n",
       "<table border=\"1\" class=\"dataframe\">\n",
       "  <thead>\n",
       "    <tr style=\"text-align: right;\">\n",
       "      <th></th>\n",
       "      <th>InvoiceNo</th>\n",
       "      <th>StockCode</th>\n",
       "      <th>Description</th>\n",
       "      <th>Quantity</th>\n",
       "      <th>InvoiceDate</th>\n",
       "      <th>UnitPrice</th>\n",
       "      <th>CustomerID</th>\n",
       "      <th>Country</th>\n",
       "    </tr>\n",
       "  </thead>\n",
       "  <tbody>\n",
       "    <tr>\n",
       "      <th>0</th>\n",
       "      <td>536365</td>\n",
       "      <td>85123A</td>\n",
       "      <td>WHITE HANGING HEART T-LIGHT HOLDER</td>\n",
       "      <td>6</td>\n",
       "      <td>12/1/2010 8:26</td>\n",
       "      <td>2.55</td>\n",
       "      <td>17850.0</td>\n",
       "      <td>United Kingdom</td>\n",
       "    </tr>\n",
       "    <tr>\n",
       "      <th>1</th>\n",
       "      <td>536365</td>\n",
       "      <td>71053</td>\n",
       "      <td>WHITE METAL LANTERN</td>\n",
       "      <td>6</td>\n",
       "      <td>12/1/2010 8:26</td>\n",
       "      <td>3.39</td>\n",
       "      <td>17850.0</td>\n",
       "      <td>United Kingdom</td>\n",
       "    </tr>\n",
       "    <tr>\n",
       "      <th>2</th>\n",
       "      <td>536365</td>\n",
       "      <td>84406B</td>\n",
       "      <td>CREAM CUPID HEARTS COAT HANGER</td>\n",
       "      <td>8</td>\n",
       "      <td>12/1/2010 8:26</td>\n",
       "      <td>2.75</td>\n",
       "      <td>17850.0</td>\n",
       "      <td>United Kingdom</td>\n",
       "    </tr>\n",
       "    <tr>\n",
       "      <th>3</th>\n",
       "      <td>536365</td>\n",
       "      <td>84029G</td>\n",
       "      <td>KNITTED UNION FLAG HOT WATER BOTTLE</td>\n",
       "      <td>6</td>\n",
       "      <td>12/1/2010 8:26</td>\n",
       "      <td>3.39</td>\n",
       "      <td>17850.0</td>\n",
       "      <td>United Kingdom</td>\n",
       "    </tr>\n",
       "    <tr>\n",
       "      <th>4</th>\n",
       "      <td>536365</td>\n",
       "      <td>84029E</td>\n",
       "      <td>RED WOOLLY HOTTIE WHITE HEART.</td>\n",
       "      <td>6</td>\n",
       "      <td>12/1/2010 8:26</td>\n",
       "      <td>3.39</td>\n",
       "      <td>17850.0</td>\n",
       "      <td>United Kingdom</td>\n",
       "    </tr>\n",
       "  </tbody>\n",
       "</table>\n",
       "</div>"
      ],
      "text/plain": [
       "  InvoiceNo StockCode                          Description  Quantity  \\\n",
       "0    536365    85123A   WHITE HANGING HEART T-LIGHT HOLDER         6   \n",
       "1    536365     71053                  WHITE METAL LANTERN         6   \n",
       "2    536365    84406B       CREAM CUPID HEARTS COAT HANGER         8   \n",
       "3    536365    84029G  KNITTED UNION FLAG HOT WATER BOTTLE         6   \n",
       "4    536365    84029E       RED WOOLLY HOTTIE WHITE HEART.         6   \n",
       "\n",
       "      InvoiceDate  UnitPrice  CustomerID         Country  \n",
       "0  12/1/2010 8:26       2.55     17850.0  United Kingdom  \n",
       "1  12/1/2010 8:26       3.39     17850.0  United Kingdom  \n",
       "2  12/1/2010 8:26       2.75     17850.0  United Kingdom  \n",
       "3  12/1/2010 8:26       3.39     17850.0  United Kingdom  \n",
       "4  12/1/2010 8:26       3.39     17850.0  United Kingdom  "
      ]
     },
     "execution_count": 14,
     "metadata": {},
     "output_type": "execute_result"
    }
   ],
   "source": [
    "# Visualizando as primeiras linhas\n",
    "df.head()"
   ]
  },
  {
   "cell_type": "code",
   "execution_count": 15,
   "id": "bb6d27d4",
   "metadata": {},
   "outputs": [
    {
     "data": {
      "text/plain": [
       "(541909, 8)"
      ]
     },
     "execution_count": 15,
     "metadata": {},
     "output_type": "execute_result"
    }
   ],
   "source": [
    "df.shape"
   ]
  },
  {
   "cell_type": "markdown",
   "id": "c0bb694d",
   "metadata": {},
   "source": [
    "## Processamento"
   ]
  },
  {
   "cell_type": "code",
   "execution_count": 16,
   "id": "20847d91",
   "metadata": {},
   "outputs": [],
   "source": [
    "# Convertendo datas\n",
    "df['InvoiceDate'] = pd.to_datetime(df['InvoiceDate'])\n",
    "# Data de referência para cálculo de recência\n",
    "data_ref = df['InvoiceDate'].max() + pd.Timedelta(days=1)\n",
    "# Criando TotalPrice\n",
    "df['TotalPrice'] = df['Quantity'] * df['UnitPrice']\n"
   ]
  },
  {
   "cell_type": "code",
   "execution_count": 17,
   "id": "5a0465de",
   "metadata": {},
   "outputs": [],
   "source": [
    "# Cálculo das métricas RFM\n",
    "rfm = df.groupby('CustomerID').agg({\n",
    "    'InvoiceDate': lambda x: (data_ref - x.max()).days,\n",
    "    'InvoiceNo': 'nunique',\n",
    "    'TotalPrice': 'sum'\n",
    "}).reset_index()\n",
    "\n",
    "rfm.columns = ['CustomerID', 'Recency', 'Frequency', 'Monetary']"
   ]
  },
  {
   "cell_type": "code",
   "execution_count": 18,
   "id": "2878c172",
   "metadata": {},
   "outputs": [],
   "source": [
    "# Padronizando os dados\n",
    "scaler = StandardScaler()\n",
    "rfm_scaled = scaler.fit_transform(rfm[['Recency', 'Frequency', 'Monetary']])"
   ]
  },
  {
   "cell_type": "markdown",
   "id": "34263a0b",
   "metadata": {},
   "source": [
    "## Determinando número ideal de clusters"
   ]
  },
  {
   "cell_type": "code",
   "execution_count": 19,
   "id": "777ab55f",
   "metadata": {},
   "outputs": [
    {
     "data": {
      "image/png": "[encoded data removed]",
      "text/plain": [
       "<Figure size 640x480 with 1 Axes>"
      ]
     },
     "metadata": {},
     "output_type": "display_data"
    }
   ],
   "source": [
    "# Determinando número ideal de clusters\n",
    "wcss = []\n",
    "for i in range(1, 10):\n",
    "    kmeans = KMeans(n_clusters=i, random_state=42)\n",
    "    kmeans.fit(rfm_scaled)\n",
    "    wcss.append(kmeans.inertia_)\n",
    "\n",
    "plt.plot(range(1, 10), wcss, marker='o')\n",
    "plt.title('Método do Cotovelo')\n",
    "plt.xlabel('Número de Clusters')\n",
    "plt.ylabel('WCSS')\n",
    "plt.show()\n"
   ]
  },
  {
   "cell_type": "markdown",
   "id": "f55f6dd4",
   "metadata": {},
   "source": [
    "## Aplicando KMeans"
   ]
  },
  {
   "cell_type": "code",
   "execution_count": 20,
   "id": "fd1f6d0a",
   "metadata": {},
   "outputs": [
    {
     "data": {
      "application/vnd.microsoft.datawrangler.viewer.v0+json": {
       "columns": [
        {
         "name": "index",
         "rawType": "int64",
         "type": "integer"
        },
        {
         "name": "CustomerID",
         "rawType": "float64",
         "type": "float"
        },
        {
         "name": "Recency",
         "rawType": "int64",
         "type": "integer"
        },
        {
         "name": "Frequency",
         "rawType": "int64",
         "type": "integer"
        },
        {
         "name": "Monetary",
         "rawType": "float64",
         "type": "float"
        },
        {
         "name": "Cluster",
         "rawType": "int32",
         "type": "integer"
        }
       ],
       "ref": "ef56a24f-66d2-47b4-9693-8665c6e30ef4",
       "rows": [
        [
         "0",
         "12346.0",
         "326",
         "2",
         "0.0",
         "1"
        ],
        [
         "1",
         "12347.0",
         "2",
         "7",
         "4310.0",
         "0"
        ],
        [
         "2",
         "12348.0",
         "75",
         "4",
         "1797.24",
         "0"
        ],
        [
         "3",
         "12349.0",
         "19",
         "1",
         "1757.55",
         "0"
        ],
        [
         "4",
         "12350.0",
         "310",
         "1",
         "334.4",
         "1"
        ]
       ],
       "shape": {
        "columns": 5,
        "rows": 5
       }
      },
      "text/html": [
       "<div>\n",
       "<style scoped>\n",
       "    .dataframe tbody tr th:only-of-type {\n",
       "        vertical-align: middle;\n",
       "    }\n",
       "\n",
       "    .dataframe tbody tr th {\n",
       "        vertical-align: top;\n",
       "    }\n",
       "\n",
       "    .dataframe thead th {\n",
       "        text-align: right;\n",
       "    }\n",
       "</style>\n",
       "<table border=\"1\" class=\"dataframe\">\n",
       "  <thead>\n",
       "    <tr style=\"text-align: right;\">\n",
       "      <th></th>\n",
       "      <th>CustomerID</th>\n",
       "      <th>Recency</th>\n",
       "      <th>Frequency</th>\n",
       "      <th>Monetary</th>\n",
       "      <th>Cluster</th>\n",
       "    </tr>\n",
       "  </thead>\n",
       "  <tbody>\n",
       "    <tr>\n",
       "      <th>0</th>\n",
       "      <td>12346.0</td>\n",
       "      <td>326</td>\n",
       "      <td>2</td>\n",
       "      <td>0.00</td>\n",
       "      <td>1</td>\n",
       "    </tr>\n",
       "    <tr>\n",
       "      <th>1</th>\n",
       "      <td>12347.0</td>\n",
       "      <td>2</td>\n",
       "      <td>7</td>\n",
       "      <td>4310.00</td>\n",
       "      <td>0</td>\n",
       "    </tr>\n",
       "    <tr>\n",
       "      <th>2</th>\n",
       "      <td>12348.0</td>\n",
       "      <td>75</td>\n",
       "      <td>4</td>\n",
       "      <td>1797.24</td>\n",
       "      <td>0</td>\n",
       "    </tr>\n",
       "    <tr>\n",
       "      <th>3</th>\n",
       "      <td>12349.0</td>\n",
       "      <td>19</td>\n",
       "      <td>1</td>\n",
       "      <td>1757.55</td>\n",
       "      <td>0</td>\n",
       "    </tr>\n",
       "    <tr>\n",
       "      <th>4</th>\n",
       "      <td>12350.0</td>\n",
       "      <td>310</td>\n",
       "      <td>1</td>\n",
       "      <td>334.40</td>\n",
       "      <td>1</td>\n",
       "    </tr>\n",
       "  </tbody>\n",
       "</table>\n",
       "</div>"
      ],
      "text/plain": [
       "   CustomerID  Recency  Frequency  Monetary  Cluster\n",
       "0     12346.0      326          2      0.00        1\n",
       "1     12347.0        2          7   4310.00        0\n",
       "2     12348.0       75          4   1797.24        0\n",
       "3     12349.0       19          1   1757.55        0\n",
       "4     12350.0      310          1    334.40        1"
      ]
     },
     "execution_count": 20,
     "metadata": {},
     "output_type": "execute_result"
    }
   ],
   "source": [
    "# Aplicando KMeans\n",
    "kmeans = KMeans(n_clusters=3, random_state=42)\n",
    "rfm['Cluster'] = kmeans.fit_predict(rfm_scaled)\n",
    "rfm.head()"
   ]
  },
  {
   "cell_type": "code",
   "execution_count": 22,
   "id": "234f3e07",
   "metadata": {},
   "outputs": [
    {
     "data": {
      "application/vnd.microsoft.datawrangler.viewer.v0+json": {
       "columns": [
        {
         "name": "Cluster",
         "rawType": "int32",
         "type": "integer"
        },
        {
         "name": "count",
         "rawType": "int64",
         "type": "integer"
        }
       ],
       "ref": "bdd90a11-5c76-4320-a168-d86e85e92812",
       "rows": [
        [
         "0",
         "3244"
        ],
        [
         "1",
         "1105"
        ],
        [
         "2",
         "23"
        ]
       ],
       "shape": {
        "columns": 1,
        "rows": 3
       }
      },
      "text/plain": [
       "Cluster\n",
       "0    3244\n",
       "1    1105\n",
       "2      23\n",
       "Name: count, dtype: int64"
      ]
     },
     "execution_count": 22,
     "metadata": {},
     "output_type": "execute_result"
    }
   ],
   "source": [
    "# Contagem de clientes por cluster\n",
    "rfm['Cluster'].value_counts()"
   ]
  },
  {
   "cell_type": "code",
   "execution_count": 21,
   "id": "52f66614",
   "metadata": {},
   "outputs": [],
   "source": [
    "# Exportando os dados\n",
    "rfm.to_csv('../data/processed/rfm.csv', index=False)"
   ]
  }
 ],
 "metadata": {
  "kernelspec": {
   "display_name": "cases_data_science",
   "language": "python",
   "name": "python3"
  },
  "language_info": {
   "codemirror_mode": {
    "name": "ipython",
    "version": 3
   },
   "file_extension": ".py",
   "mimetype": "text/x-python",
   "name": "python",
   "nbconvert_exporter": "python",
   "pygments_lexer": "ipython3",
   "version": "3.10.18"
  }
 },
 "nbformat": 4,
 "nbformat_minor": 5
}
